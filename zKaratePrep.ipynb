{
 "cells": [
  {
   "cell_type": "markdown",
   "metadata": {},
   "source": [
    "# Parse the data for Karate Club\n",
    "Since the raw data will usually come with obseraction ID that does not always start with 0 and may not be numeric, we start by making the index of observations (nodes) as a string.\n",
    "\n",
    "Source of the Karate Club: https://en.wikipedia.org/wiki/Zachary%27s_karate_club"
   ]
  },
  {
   "cell_type": "code",
   "execution_count": 1,
   "metadata": {},
   "outputs": [],
   "source": [
    "edge_list =[[2,1],\n",
    "[3,1],[3,2],\n",
    "[4,1],[4,2],[4,3],\n",
    "[5,1],\n",
    "[6,1],\n",
    "[7,1],[7,5],[7,6],\n",
    "[8,1],[8,2],[8,3],[8,4],\n",
    "[9,1],[9,3],\n",
    "[10,3],\n",
    "[11,1],[11,5],[11,6],\n",
    "[12,1],\n",
    "[13,1],[13,4],\n",
    "[14,1],[14,2],[14,3],[14,4],\n",
    "[17,6],[17,7],\n",
    "[18,1],[18,2],\n",
    "[20,1],[20,2],\n",
    "[22,1],[22,2],\n",
    "[26,24],[26,25],\n",
    "[28,3],[28,24],[28,25],\n",
    "[29,3],\n",
    "[30,24],[30,27],\n",
    "[31,2],[31,9],\n",
    "[32,1],[32,25],[32,26],[32,29],\n",
    "[33,3],[33,9],[33,15],[33,16],[33,19],[33,21],[33,23],[33,24],[33,30],[33,31],[33,32],\n",
    "[34,9],[34,10],[34,14],[34,15],[34,16],[34,19],[34,20],[34,21],[34,23],[34,24],[34,27],[34,28],[34,29],[34,30],[34,31],[34,32],[34,33],\n",
    "]"
   ]
  },
  {
   "cell_type": "code",
   "execution_count": 4,
   "metadata": {},
   "outputs": [],
   "source": [
    "edge_list_str = []\n",
    "for edge in edge_list:\n",
    "    edge = [str(edge[0]), str(edge[-1])]\n",
    "    edge_list_str.append(edge)"
   ]
  },
  {
   "cell_type": "markdown",
   "metadata": {},
   "source": [
    "## Since NetworkX uses base Python, it is handy for manipulating data"
   ]
  },
  {
   "cell_type": "code",
   "execution_count": 6,
   "metadata": {
    "collapsed": false,
    "jupyter": {
     "outputs_hidden": false
    }
   },
   "outputs": [],
   "source": [
    "import networkx as nx\n",
    "G = nx.Graph()"
   ]
  },
  {
   "cell_type": "code",
   "execution_count": 8,
   "metadata": {
    "collapsed": false,
    "jupyter": {
     "outputs_hidden": false
    }
   },
   "outputs": [],
   "source": [
    "# basic add nodes\n",
    "G.add_edges_from(edge_list_str)"
   ]
  },
  {
   "cell_type": "markdown",
   "metadata": {},
   "source": [
    "### Gen: node attributes"
   ]
  },
  {
   "cell_type": "code",
   "execution_count": 34,
   "metadata": {},
   "outputs": [],
   "source": [
    "node_attributes = {}\n",
    "import random\n",
    "random.seed(1)\n",
    "\n",
    "# Suppose these are ages\n",
    "for node in G.nodes():\n",
    "    node_attributes[node] = random.randint(5, 100)\n",
    "\n",
    "import pandas as pd\n",
    "df = pd.DataFrame.from_records([[key, node_attributes[key]] for key in node_attributes]) \n",
    "df.columns = ['ID', 'Age']\n",
    "df['RandAttribute'] = (df['Age'] + 100)/99\n",
    "\n",
    "# Extra effort to make ID a string-valued field\n",
    "df['ID'] = 'ID' + df['ID']"
   ]
  },
  {
   "cell_type": "code",
   "execution_count": 40,
   "metadata": {},
   "outputs": [],
   "source": [
    "df_node = df.copy()\n",
    "df_node.to_csv('NodeAttributes.csv', index=False)"
   ]
  },
  {
   "cell_type": "markdown",
   "metadata": {},
   "source": [
    "### Edge list (on how the network is wired)"
   ]
  },
  {
   "cell_type": "code",
   "execution_count": 29,
   "metadata": {},
   "outputs": [],
   "source": [
    "edge_list = []\n",
    "for edge in G.edges():\n",
    "    edge_list.append(\n",
    "        ('ID'+edge[0], 'ID'+edge[-1])\n",
    "    )"
   ]
  },
  {
   "cell_type": "code",
   "execution_count": 37,
   "metadata": {},
   "outputs": [],
   "source": [
    "df_edge = pd.DataFrame.from_records(edge_list,columns=['Subject1', 'NamedFriend'])"
   ]
  },
  {
   "cell_type": "code",
   "execution_count": 41,
   "metadata": {},
   "outputs": [],
   "source": [
    "df_edge.to_csv('EdgeList.csv', index=False)"
   ]
  }
 ],
 "metadata": {
  "kernelspec": {
   "display_name": "Python 3",
   "language": "python",
   "name": "python3"
  },
  "language_info": {
   "codemirror_mode": {
    "name": "ipython",
    "version": 3
   },
   "file_extension": ".py",
   "mimetype": "text/x-python",
   "name": "python",
   "nbconvert_exporter": "python",
   "pygments_lexer": "ipython3",
   "version": "3.7.7"
  }
 },
 "nbformat": 4,
 "nbformat_minor": 4
}
