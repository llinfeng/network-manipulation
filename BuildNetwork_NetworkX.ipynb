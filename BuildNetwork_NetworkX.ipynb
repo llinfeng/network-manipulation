{
 "cells": [
  {
   "cell_type": "markdown",
   "metadata": {},
   "source": [
    "# Load Karate Club data"
   ]
  },
  {
   "cell_type": "code",
   "execution_count": 1,
   "metadata": {},
   "outputs": [],
   "source": [
    "import pandas as pd #CSV file handler\n",
    "df_edge_list = pd.read_csv('EdgeList.csv')\n",
    "df_node_attributes = pd.read_csv('NodeAttributes.csv')"
   ]
  },
  {
   "cell_type": "markdown",
   "metadata": {},
   "source": [
    "## Construct the network in `NetworkX`"
   ]
  },
  {
   "cell_type": "markdown",
   "metadata": {},
   "source": [
    "### Given complete edge info from a spreadsheet, we shall generate a Graph object from edge_list \n",
    "Note, there are other ways of generating the graph. It takes one line with a fully populated edge_list."
   ]
  },
  {
   "cell_type": "code",
   "execution_count": 2,
   "metadata": {
    "collapsed": false,
    "jupyter": {
     "outputs_hidden": false
    }
   },
   "outputs": [],
   "source": [
    "import networkx as nx\n",
    "G = nx.Graph()"
   ]
  },
  {
   "cell_type": "code",
   "execution_count": 3,
   "metadata": {},
   "outputs": [
    {
     "data": {
      "text/html": [
       "<div>\n",
       "<style scoped>\n",
       "    .dataframe tbody tr th:only-of-type {\n",
       "        vertical-align: middle;\n",
       "    }\n",
       "\n",
       "    .dataframe tbody tr th {\n",
       "        vertical-align: top;\n",
       "    }\n",
       "\n",
       "    .dataframe thead th {\n",
       "        text-align: right;\n",
       "    }\n",
       "</style>\n",
       "<table border=\"1\" class=\"dataframe\">\n",
       "  <thead>\n",
       "    <tr style=\"text-align: right;\">\n",
       "      <th></th>\n",
       "      <th>Subject1</th>\n",
       "      <th>NamedFriend</th>\n",
       "    </tr>\n",
       "  </thead>\n",
       "  <tbody>\n",
       "    <tr>\n",
       "      <th>0</th>\n",
       "      <td>ID2</td>\n",
       "      <td>ID1</td>\n",
       "    </tr>\n",
       "    <tr>\n",
       "      <th>1</th>\n",
       "      <td>ID2</td>\n",
       "      <td>ID3</td>\n",
       "    </tr>\n",
       "    <tr>\n",
       "      <th>2</th>\n",
       "      <td>ID2</td>\n",
       "      <td>ID4</td>\n",
       "    </tr>\n",
       "    <tr>\n",
       "      <th>3</th>\n",
       "      <td>ID2</td>\n",
       "      <td>ID8</td>\n",
       "    </tr>\n",
       "    <tr>\n",
       "      <th>4</th>\n",
       "      <td>ID2</td>\n",
       "      <td>ID14</td>\n",
       "    </tr>\n",
       "  </tbody>\n",
       "</table>\n",
       "</div>"
      ],
      "text/plain": [
       "  Subject1 NamedFriend\n",
       "0      ID2         ID1\n",
       "1      ID2         ID3\n",
       "2      ID2         ID4\n",
       "3      ID2         ID8\n",
       "4      ID2        ID14"
      ]
     },
     "execution_count": 3,
     "metadata": {},
     "output_type": "execute_result"
    }
   ],
   "source": [
    "df_edge_list.head()"
   ]
  },
  {
   "cell_type": "code",
   "execution_count": 4,
   "metadata": {},
   "outputs": [],
   "source": [
    "edge_list = []\n",
    "for enum, row in df_edge_list.iterrows():\n",
    "    # enum will take the index value\n",
    "    # row will be a \"numpy series\" with column names\n",
    "    elem1 = row['Subject1']\n",
    "    elem2 = row['NamedFriend']\n",
    "    edge_list.append(\n",
    "        [elem1, elem2]\n",
    "    )"
   ]
  },
  {
   "cell_type": "code",
   "execution_count": 5,
   "metadata": {
    "collapsed": false,
    "jupyter": {
     "outputs_hidden": false
    }
   },
   "outputs": [],
   "source": [
    "# basic add nodes\n",
    "G.add_edges_from(edge_list)"
   ]
  },
  {
   "cell_type": "markdown",
   "metadata": {},
   "source": [
    "### Add Node attributes\n",
    "* Note, use `G.nodes()` to get the full list of nodes,\n",
    "* And, use `G.node['NodeLabel']` to directly access the node\n",
    "    * With `G.node['NodeLabel']['attribute_name']`, one can directly assign values to `attribute_name` for the node."
   ]
  },
  {
   "cell_type": "code",
   "execution_count": 6,
   "metadata": {},
   "outputs": [
    {
     "data": {
      "text/plain": [
       "['ID2',\n",
       " 'ID1',\n",
       " 'ID3',\n",
       " 'ID4',\n",
       " 'ID8',\n",
       " 'ID14',\n",
       " 'ID18',\n",
       " 'ID20',\n",
       " 'ID22',\n",
       " 'ID31',\n",
       " 'ID5',\n",
       " 'ID6',\n",
       " 'ID7',\n",
       " 'ID9',\n",
       " 'ID11',\n",
       " 'ID12',\n",
       " 'ID13',\n",
       " 'ID32',\n",
       " 'ID10',\n",
       " 'ID28',\n",
       " 'ID29',\n",
       " 'ID33',\n",
       " 'ID17',\n",
       " 'ID34',\n",
       " 'ID26',\n",
       " 'ID24',\n",
       " 'ID25',\n",
       " 'ID30',\n",
       " 'ID27',\n",
       " 'ID15',\n",
       " 'ID16',\n",
       " 'ID19',\n",
       " 'ID21',\n",
       " 'ID23']"
      ]
     },
     "execution_count": 6,
     "metadata": {},
     "output_type": "execute_result"
    }
   ],
   "source": [
    "# First, here are all our nodes\n",
    "G.nodes()"
   ]
  },
  {
   "cell_type": "code",
   "execution_count": 7,
   "metadata": {},
   "outputs": [],
   "source": [
    "# To add \"age\" attribute to a node, we need to pull for the node first\n",
    "G.node['ID2']['Age'] = 1"
   ]
  },
  {
   "cell_type": "code",
   "execution_count": 8,
   "metadata": {},
   "outputs": [
    {
     "data": {
      "text/plain": [
       "{'Age': 1}"
      ]
     },
     "execution_count": 8,
     "metadata": {},
     "output_type": "execute_result"
    }
   ],
   "source": [
    "G.node['ID2']"
   ]
  },
  {
   "cell_type": "code",
   "execution_count": 9,
   "metadata": {},
   "outputs": [
    {
     "data": {
      "text/html": [
       "<div>\n",
       "<style scoped>\n",
       "    .dataframe tbody tr th:only-of-type {\n",
       "        vertical-align: middle;\n",
       "    }\n",
       "\n",
       "    .dataframe tbody tr th {\n",
       "        vertical-align: top;\n",
       "    }\n",
       "\n",
       "    .dataframe thead th {\n",
       "        text-align: right;\n",
       "    }\n",
       "</style>\n",
       "<table border=\"1\" class=\"dataframe\">\n",
       "  <thead>\n",
       "    <tr style=\"text-align: right;\">\n",
       "      <th></th>\n",
       "      <th>ID</th>\n",
       "      <th>Age</th>\n",
       "      <th>RandAttribute</th>\n",
       "    </tr>\n",
       "  </thead>\n",
       "  <tbody>\n",
       "    <tr>\n",
       "      <th>0</th>\n",
       "      <td>ID2</td>\n",
       "      <td>22</td>\n",
       "      <td>1.232323</td>\n",
       "    </tr>\n",
       "    <tr>\n",
       "      <th>1</th>\n",
       "      <td>ID1</td>\n",
       "      <td>77</td>\n",
       "      <td>1.787879</td>\n",
       "    </tr>\n",
       "    <tr>\n",
       "      <th>2</th>\n",
       "      <td>ID3</td>\n",
       "      <td>13</td>\n",
       "      <td>1.141414</td>\n",
       "    </tr>\n",
       "    <tr>\n",
       "      <th>3</th>\n",
       "      <td>ID4</td>\n",
       "      <td>37</td>\n",
       "      <td>1.383838</td>\n",
       "    </tr>\n",
       "    <tr>\n",
       "      <th>4</th>\n",
       "      <td>ID5</td>\n",
       "      <td>20</td>\n",
       "      <td>1.212121</td>\n",
       "    </tr>\n",
       "  </tbody>\n",
       "</table>\n",
       "</div>"
      ],
      "text/plain": [
       "    ID  Age  RandAttribute\n",
       "0  ID2   22       1.232323\n",
       "1  ID1   77       1.787879\n",
       "2  ID3   13       1.141414\n",
       "3  ID4   37       1.383838\n",
       "4  ID5   20       1.212121"
      ]
     },
     "execution_count": 9,
     "metadata": {},
     "output_type": "execute_result"
    }
   ],
   "source": [
    "# Now, we can assign node-attributes for all nodes:\n",
    "df_node_attributes.head() # There are two attributes for each node"
   ]
  },
  {
   "cell_type": "code",
   "execution_count": 10,
   "metadata": {},
   "outputs": [],
   "source": [
    "for enum, row in df_node_attributes.iterrows():\n",
    "    node_id = row['ID']\n",
    "    age = row['Age']\n",
    "    rand_attr = row['RandAttribute']\n",
    "    G.node[node_id]['Age'] = age\n",
    "    G.node[node_id]['RandAttribute'] = rand_attr"
   ]
  },
  {
   "cell_type": "code",
   "execution_count": 11,
   "metadata": {},
   "outputs": [
    {
     "data": {
      "text/plain": [
       "{'Age': 22, 'RandAttribute': 1.2323232323232325}"
      ]
     },
     "execution_count": 11,
     "metadata": {},
     "output_type": "execute_result"
    }
   ],
   "source": [
    "G.node['ID2']"
   ]
  },
  {
   "cell_type": "markdown",
   "metadata": {},
   "source": [
    "## Calculate the average of my friends' age"
   ]
  },
  {
   "cell_type": "markdown",
   "metadata": {},
   "source": [
    "### To start with, who are my friends?\n",
    "For additional sytnax to get at neighbor-list, see: [networkx.Graph.neighbors — NetworkX](https://networkx.org/documentation/latest/reference/classes/generated/networkx.Graph.neighbors.html)"
   ]
  },
  {
   "cell_type": "code",
   "execution_count": 18,
   "metadata": {},
   "outputs": [
    {
     "data": {
      "text/plain": [
       "['ID1', 'ID3', 'ID4', 'ID8', 'ID14', 'ID18', 'ID20', 'ID22', 'ID31']"
      ]
     },
     "execution_count": 18,
     "metadata": {},
     "output_type": "execute_result"
    }
   ],
   "source": [
    "# By directly indexing by  \n",
    "G.neighbors('ID2')"
   ]
  },
  {
   "cell_type": "markdown",
   "metadata": {},
   "source": [
    "### Then, calculate the average of the average Age of my friends"
   ]
  },
  {
   "cell_type": "code",
   "execution_count": 19,
   "metadata": {},
   "outputs": [
    {
     "data": {
      "text/plain": [
       "43.55555555555556"
      ]
     },
     "execution_count": 19,
     "metadata": {},
     "output_type": "execute_result"
    }
   ],
   "source": [
    "neighbor_ages = []\n",
    "for neighborID in G.neighbors('ID2'):\n",
    "    neighbor_ages.append(\n",
    "        G.node[neighborID]['Age']\n",
    "    )\n",
    "\n",
    "    \n",
    "import numpy as np\n",
    "np.mean(neighbor_ages)"
   ]
  },
  {
   "cell_type": "markdown",
   "metadata": {},
   "source": [
    "### Populate the mean age for all nodes "
   ]
  },
  {
   "cell_type": "code",
   "execution_count": 21,
   "metadata": {},
   "outputs": [
    {
     "data": {
      "text/plain": [
       "Index(['ID', 'Age', 'RandAttribute'], dtype='object')"
      ]
     },
     "execution_count": 21,
     "metadata": {},
     "output_type": "execute_result"
    }
   ],
   "source": [
    "df_node_attributes.columns"
   ]
  },
  {
   "cell_type": "code",
   "execution_count": 23,
   "metadata": {},
   "outputs": [],
   "source": [
    "import numpy as np\n",
    "\n",
    "# This combines NetowrkX with Pandas\n",
    "def calc_neighbor_age(row, G):\n",
    "    # Note, G is the graph we have generated previously\n",
    "    # We use G and NetworkX to collect neighbors\n",
    "    ego_id = row['ID']\n",
    "    neighbor_list = G.neighbors(ego_id)\n",
    "    neighbor_ages = []\n",
    "    for neighborID in neighbor_list:\n",
    "        neighbor_ages.append(\n",
    "            G.node[neighborID]['Age']\n",
    "        )\n",
    "    return np.mean(neighbor_ages)\n",
    "    \n",
    "df_node_attributes['avg_friend_age'] = df_node_attributes.apply(lambda row : calc_neighbor_age(row, G), axis=1) #axis=1 is necessary here."
   ]
  },
  {
   "cell_type": "code",
   "execution_count": 24,
   "metadata": {},
   "outputs": [
    {
     "data": {
      "text/html": [
       "<div>\n",
       "<style scoped>\n",
       "    .dataframe tbody tr th:only-of-type {\n",
       "        vertical-align: middle;\n",
       "    }\n",
       "\n",
       "    .dataframe tbody tr th {\n",
       "        vertical-align: top;\n",
       "    }\n",
       "\n",
       "    .dataframe thead th {\n",
       "        text-align: right;\n",
       "    }\n",
       "</style>\n",
       "<table border=\"1\" class=\"dataframe\">\n",
       "  <thead>\n",
       "    <tr style=\"text-align: right;\">\n",
       "      <th></th>\n",
       "      <th>ID</th>\n",
       "      <th>Age</th>\n",
       "      <th>RandAttribute</th>\n",
       "      <th>avg_friend_age</th>\n",
       "    </tr>\n",
       "  </thead>\n",
       "  <tbody>\n",
       "    <tr>\n",
       "      <th>0</th>\n",
       "      <td>ID2</td>\n",
       "      <td>22</td>\n",
       "      <td>1.232323</td>\n",
       "      <td>43.555556</td>\n",
       "    </tr>\n",
       "    <tr>\n",
       "      <th>1</th>\n",
       "      <td>ID1</td>\n",
       "      <td>77</td>\n",
       "      <td>1.787879</td>\n",
       "      <td>40.812500</td>\n",
       "    </tr>\n",
       "    <tr>\n",
       "      <th>2</th>\n",
       "      <td>ID3</td>\n",
       "      <td>13</td>\n",
       "      <td>1.141414</td>\n",
       "      <td>48.800000</td>\n",
       "    </tr>\n",
       "    <tr>\n",
       "      <th>3</th>\n",
       "      <td>ID4</td>\n",
       "      <td>37</td>\n",
       "      <td>1.383838</td>\n",
       "      <td>42.000000</td>\n",
       "    </tr>\n",
       "    <tr>\n",
       "      <th>4</th>\n",
       "      <td>ID5</td>\n",
       "      <td>20</td>\n",
       "      <td>1.212121</td>\n",
       "      <td>56.666667</td>\n",
       "    </tr>\n",
       "    <tr>\n",
       "      <th>5</th>\n",
       "      <td>ID6</td>\n",
       "      <td>68</td>\n",
       "      <td>1.696970</td>\n",
       "      <td>56.000000</td>\n",
       "    </tr>\n",
       "    <tr>\n",
       "      <th>6</th>\n",
       "      <td>ID7</td>\n",
       "      <td>62</td>\n",
       "      <td>1.636364</td>\n",
       "      <td>54.750000</td>\n",
       "    </tr>\n",
       "    <tr>\n",
       "      <th>7</th>\n",
       "      <td>ID8</td>\n",
       "      <td>65</td>\n",
       "      <td>1.666667</td>\n",
       "      <td>37.250000</td>\n",
       "    </tr>\n",
       "    <tr>\n",
       "      <th>8</th>\n",
       "      <td>ID9</td>\n",
       "      <td>88</td>\n",
       "      <td>1.898990</td>\n",
       "      <td>46.800000</td>\n",
       "    </tr>\n",
       "    <tr>\n",
       "      <th>9</th>\n",
       "      <td>ID10</td>\n",
       "      <td>53</td>\n",
       "      <td>1.545455</td>\n",
       "      <td>52.500000</td>\n",
       "    </tr>\n",
       "    <tr>\n",
       "      <th>10</th>\n",
       "      <td>ID11</td>\n",
       "      <td>31</td>\n",
       "      <td>1.323232</td>\n",
       "      <td>55.000000</td>\n",
       "    </tr>\n",
       "    <tr>\n",
       "      <th>11</th>\n",
       "      <td>ID12</td>\n",
       "      <td>17</td>\n",
       "      <td>1.181818</td>\n",
       "      <td>77.000000</td>\n",
       "    </tr>\n",
       "    <tr>\n",
       "      <th>12</th>\n",
       "      <td>ID13</td>\n",
       "      <td>67</td>\n",
       "      <td>1.686869</td>\n",
       "      <td>57.000000</td>\n",
       "    </tr>\n",
       "    <tr>\n",
       "      <th>13</th>\n",
       "      <td>ID14</td>\n",
       "      <td>8</td>\n",
       "      <td>1.090909</td>\n",
       "      <td>48.200000</td>\n",
       "    </tr>\n",
       "    <tr>\n",
       "      <th>14</th>\n",
       "      <td>ID17</td>\n",
       "      <td>54</td>\n",
       "      <td>1.555556</td>\n",
       "      <td>65.000000</td>\n",
       "    </tr>\n",
       "    <tr>\n",
       "      <th>15</th>\n",
       "      <td>ID18</td>\n",
       "      <td>60</td>\n",
       "      <td>1.616162</td>\n",
       "      <td>49.500000</td>\n",
       "    </tr>\n",
       "    <tr>\n",
       "      <th>16</th>\n",
       "      <td>ID20</td>\n",
       "      <td>82</td>\n",
       "      <td>1.838384</td>\n",
       "      <td>63.666667</td>\n",
       "    </tr>\n",
       "    <tr>\n",
       "      <th>17</th>\n",
       "      <td>ID22</td>\n",
       "      <td>5</td>\n",
       "      <td>1.060606</td>\n",
       "      <td>49.500000</td>\n",
       "    </tr>\n",
       "    <tr>\n",
       "      <th>18</th>\n",
       "      <td>ID26</td>\n",
       "      <td>94</td>\n",
       "      <td>1.959596</td>\n",
       "      <td>36.333333</td>\n",
       "    </tr>\n",
       "    <tr>\n",
       "      <th>19</th>\n",
       "      <td>ID24</td>\n",
       "      <td>62</td>\n",
       "      <td>1.636364</td>\n",
       "      <td>74.000000</td>\n",
       "    </tr>\n",
       "    <tr>\n",
       "      <th>20</th>\n",
       "      <td>ID25</td>\n",
       "      <td>39</td>\n",
       "      <td>1.404040</td>\n",
       "      <td>66.333333</td>\n",
       "    </tr>\n",
       "    <tr>\n",
       "      <th>21</th>\n",
       "      <td>ID28</td>\n",
       "      <td>97</td>\n",
       "      <td>1.989899</td>\n",
       "      <td>51.500000</td>\n",
       "    </tr>\n",
       "    <tr>\n",
       "      <th>22</th>\n",
       "      <td>ID29</td>\n",
       "      <td>34</td>\n",
       "      <td>1.353535</td>\n",
       "      <td>37.666667</td>\n",
       "    </tr>\n",
       "    <tr>\n",
       "      <th>23</th>\n",
       "      <td>ID30</td>\n",
       "      <td>80</td>\n",
       "      <td>1.818182</td>\n",
       "      <td>44.750000</td>\n",
       "    </tr>\n",
       "    <tr>\n",
       "      <th>24</th>\n",
       "      <td>ID27</td>\n",
       "      <td>18</td>\n",
       "      <td>1.191919</td>\n",
       "      <td>86.000000</td>\n",
       "    </tr>\n",
       "    <tr>\n",
       "      <th>25</th>\n",
       "      <td>ID31</td>\n",
       "      <td>45</td>\n",
       "      <td>1.464646</td>\n",
       "      <td>52.250000</td>\n",
       "    </tr>\n",
       "    <tr>\n",
       "      <th>26</th>\n",
       "      <td>ID32</td>\n",
       "      <td>8</td>\n",
       "      <td>1.090909</td>\n",
       "      <td>57.166667</td>\n",
       "    </tr>\n",
       "    <tr>\n",
       "      <th>27</th>\n",
       "      <td>ID33</td>\n",
       "      <td>7</td>\n",
       "      <td>1.080808</td>\n",
       "      <td>51.416667</td>\n",
       "    </tr>\n",
       "    <tr>\n",
       "      <th>28</th>\n",
       "      <td>ID15</td>\n",
       "      <td>8</td>\n",
       "      <td>1.090909</td>\n",
       "      <td>49.500000</td>\n",
       "    </tr>\n",
       "    <tr>\n",
       "      <th>29</th>\n",
       "      <td>ID16</td>\n",
       "      <td>88</td>\n",
       "      <td>1.898990</td>\n",
       "      <td>49.500000</td>\n",
       "    </tr>\n",
       "    <tr>\n",
       "      <th>30</th>\n",
       "      <td>ID19</td>\n",
       "      <td>74</td>\n",
       "      <td>1.757576</td>\n",
       "      <td>49.500000</td>\n",
       "    </tr>\n",
       "    <tr>\n",
       "      <th>31</th>\n",
       "      <td>ID21</td>\n",
       "      <td>6</td>\n",
       "      <td>1.070707</td>\n",
       "      <td>49.500000</td>\n",
       "    </tr>\n",
       "    <tr>\n",
       "      <th>32</th>\n",
       "      <td>ID23</td>\n",
       "      <td>53</td>\n",
       "      <td>1.545455</td>\n",
       "      <td>49.500000</td>\n",
       "    </tr>\n",
       "    <tr>\n",
       "      <th>33</th>\n",
       "      <td>ID34</td>\n",
       "      <td>92</td>\n",
       "      <td>1.939394</td>\n",
       "      <td>47.705882</td>\n",
       "    </tr>\n",
       "  </tbody>\n",
       "</table>\n",
       "</div>"
      ],
      "text/plain": [
       "      ID  Age  RandAttribute  avg_friend_age\n",
       "0    ID2   22       1.232323       43.555556\n",
       "1    ID1   77       1.787879       40.812500\n",
       "2    ID3   13       1.141414       48.800000\n",
       "3    ID4   37       1.383838       42.000000\n",
       "4    ID5   20       1.212121       56.666667\n",
       "5    ID6   68       1.696970       56.000000\n",
       "6    ID7   62       1.636364       54.750000\n",
       "7    ID8   65       1.666667       37.250000\n",
       "8    ID9   88       1.898990       46.800000\n",
       "9   ID10   53       1.545455       52.500000\n",
       "10  ID11   31       1.323232       55.000000\n",
       "11  ID12   17       1.181818       77.000000\n",
       "12  ID13   67       1.686869       57.000000\n",
       "13  ID14    8       1.090909       48.200000\n",
       "14  ID17   54       1.555556       65.000000\n",
       "15  ID18   60       1.616162       49.500000\n",
       "16  ID20   82       1.838384       63.666667\n",
       "17  ID22    5       1.060606       49.500000\n",
       "18  ID26   94       1.959596       36.333333\n",
       "19  ID24   62       1.636364       74.000000\n",
       "20  ID25   39       1.404040       66.333333\n",
       "21  ID28   97       1.989899       51.500000\n",
       "22  ID29   34       1.353535       37.666667\n",
       "23  ID30   80       1.818182       44.750000\n",
       "24  ID27   18       1.191919       86.000000\n",
       "25  ID31   45       1.464646       52.250000\n",
       "26  ID32    8       1.090909       57.166667\n",
       "27  ID33    7       1.080808       51.416667\n",
       "28  ID15    8       1.090909       49.500000\n",
       "29  ID16   88       1.898990       49.500000\n",
       "30  ID19   74       1.757576       49.500000\n",
       "31  ID21    6       1.070707       49.500000\n",
       "32  ID23   53       1.545455       49.500000\n",
       "33  ID34   92       1.939394       47.705882"
      ]
     },
     "execution_count": 24,
     "metadata": {},
     "output_type": "execute_result"
    }
   ],
   "source": [
    "df_node_attributes"
   ]
  }
 ],
 "metadata": {
  "kernelspec": {
   "display_name": "Python 3",
   "language": "python",
   "name": "python3"
  },
  "language_info": {
   "codemirror_mode": {
    "name": "ipython",
    "version": 3
   },
   "file_extension": ".py",
   "mimetype": "text/x-python",
   "name": "python",
   "nbconvert_exporter": "python",
   "pygments_lexer": "ipython3",
   "version": "3.7.7"
  }
 },
 "nbformat": 4,
 "nbformat_minor": 4
}
